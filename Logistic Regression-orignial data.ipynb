{
 "cells": [
  {
   "cell_type": "code",
   "execution_count": 3,
   "metadata": {},
   "outputs": [],
   "source": [
    "import numpy as np\n",
    "import pandas as pd\n",
    "import matplotlib.pyplot as plt\n",
    "from sklearn.model_selection import train_test_split\n",
    "from IPython.display import display\n",
    "from sklearn import metrics\n",
    "from sklearn.metrics import accuracy_score\n",
    "import re\n",
    "import random\n",
    "from sklearn import preprocessing\n",
    "from sklearn.linear_model import LogisticRegression\n",
    "from sklearn.preprocessing import Imputer\n",
    "from sklearn.pipeline import Pipeline\n",
    "from sklearn.model_selection import GridSearchCV\n",
    "import warnings\n",
    "warnings.filterwarnings('ignore')"
   ]
  },
  {
   "cell_type": "code",
   "execution_count": 7,
   "metadata": {},
   "outputs": [
    {
     "name": "stdout",
     "output_type": "stream",
     "text": [
      "start reading...\n",
      "done reading\n"
     ]
    }
   ],
   "source": [
    "print('start reading...')\n",
    "prefix = \"/Users/isabelniu/Documents/HKUST-20Spring/ML/Project/DataSet/\"\n",
    "train = pd.read_csv(prefix + \"train_data.csv\")\n",
    "test = pd.read_csv(prefix + \"test_data.csv\")\n",
    "print('done reading')"
   ]
  },
  {
   "cell_type": "code",
   "execution_count": 9,
   "metadata": {},
   "outputs": [],
   "source": [
    "train=train.drop(train.columns[0],1)\n",
    "train=train.drop(['expiration_date','registration_init_time'],1)\n",
    "test=test.drop(test.columns[0],1)\n",
    "test=test.drop(['expiration_date','registration_init_time'],1)"
   ]
  },
  {
   "cell_type": "code",
   "execution_count": 13,
   "metadata": {},
   "outputs": [
    {
     "data": {
      "text/html": [
       "<div>\n",
       "<style scoped>\n",
       "    .dataframe tbody tr th:only-of-type {\n",
       "        vertical-align: middle;\n",
       "    }\n",
       "\n",
       "    .dataframe tbody tr th {\n",
       "        vertical-align: top;\n",
       "    }\n",
       "\n",
       "    .dataframe thead th {\n",
       "        text-align: right;\n",
       "    }\n",
       "</style>\n",
       "<table border=\"1\" class=\"dataframe\">\n",
       "  <thead>\n",
       "    <tr style=\"text-align: right;\">\n",
       "      <th></th>\n",
       "      <th>artist_name</th>\n",
       "      <th>bd</th>\n",
       "      <th>city</th>\n",
       "      <th>composer</th>\n",
       "      <th>expiration_date_day</th>\n",
       "      <th>expiration_date_month</th>\n",
       "      <th>expiration_date_year</th>\n",
       "      <th>gender</th>\n",
       "      <th>genre_ids</th>\n",
       "      <th>language</th>\n",
       "      <th>...</th>\n",
       "      <th>registered_via</th>\n",
       "      <th>registration_init_time_day</th>\n",
       "      <th>registration_init_time_month</th>\n",
       "      <th>registration_init_time_year</th>\n",
       "      <th>song_id</th>\n",
       "      <th>song_length</th>\n",
       "      <th>source_screen_name</th>\n",
       "      <th>source_system_tab</th>\n",
       "      <th>source_type</th>\n",
       "      <th>target</th>\n",
       "    </tr>\n",
       "  </thead>\n",
       "  <tbody>\n",
       "    <tr>\n",
       "      <th>0</th>\n",
       "      <td>3784</td>\n",
       "      <td>0</td>\n",
       "      <td>0</td>\n",
       "      <td>16653</td>\n",
       "      <td>5</td>\n",
       "      <td>10</td>\n",
       "      <td>2017</td>\n",
       "      <td>2</td>\n",
       "      <td>307</td>\n",
       "      <td>9</td>\n",
       "      <td>...</td>\n",
       "      <td>2</td>\n",
       "      <td>2</td>\n",
       "      <td>1</td>\n",
       "      <td>2012</td>\n",
       "      <td>86884</td>\n",
       "      <td>20662</td>\n",
       "      <td>7</td>\n",
       "      <td>1</td>\n",
       "      <td>7</td>\n",
       "      <td>1.0</td>\n",
       "    </tr>\n",
       "    <tr>\n",
       "      <th>1</th>\n",
       "      <td>36867</td>\n",
       "      <td>24</td>\n",
       "      <td>11</td>\n",
       "      <td>74276</td>\n",
       "      <td>11</td>\n",
       "      <td>9</td>\n",
       "      <td>2017</td>\n",
       "      <td>0</td>\n",
       "      <td>97</td>\n",
       "      <td>9</td>\n",
       "      <td>...</td>\n",
       "      <td>3</td>\n",
       "      <td>25</td>\n",
       "      <td>5</td>\n",
       "      <td>2011</td>\n",
       "      <td>260594</td>\n",
       "      <td>39586</td>\n",
       "      <td>8</td>\n",
       "      <td>3</td>\n",
       "      <td>4</td>\n",
       "      <td>1.0</td>\n",
       "    </tr>\n",
       "    <tr>\n",
       "      <th>2</th>\n",
       "      <td>24601</td>\n",
       "      <td>24</td>\n",
       "      <td>11</td>\n",
       "      <td>51540</td>\n",
       "      <td>11</td>\n",
       "      <td>9</td>\n",
       "      <td>2017</td>\n",
       "      <td>0</td>\n",
       "      <td>97</td>\n",
       "      <td>9</td>\n",
       "      <td>...</td>\n",
       "      <td>3</td>\n",
       "      <td>25</td>\n",
       "      <td>5</td>\n",
       "      <td>2011</td>\n",
       "      <td>140755</td>\n",
       "      <td>25563</td>\n",
       "      <td>8</td>\n",
       "      <td>3</td>\n",
       "      <td>4</td>\n",
       "      <td>1.0</td>\n",
       "    </tr>\n",
       "    <tr>\n",
       "      <th>3</th>\n",
       "      <td>31651</td>\n",
       "      <td>24</td>\n",
       "      <td>11</td>\n",
       "      <td>41991</td>\n",
       "      <td>11</td>\n",
       "      <td>9</td>\n",
       "      <td>2017</td>\n",
       "      <td>0</td>\n",
       "      <td>6</td>\n",
       "      <td>1</td>\n",
       "      <td>...</td>\n",
       "      <td>3</td>\n",
       "      <td>25</td>\n",
       "      <td>5</td>\n",
       "      <td>2011</td>\n",
       "      <td>27577</td>\n",
       "      <td>33240</td>\n",
       "      <td>8</td>\n",
       "      <td>3</td>\n",
       "      <td>4</td>\n",
       "      <td>1.0</td>\n",
       "    </tr>\n",
       "    <tr>\n",
       "      <th>4</th>\n",
       "      <td>5190</td>\n",
       "      <td>0</td>\n",
       "      <td>0</td>\n",
       "      <td>9701</td>\n",
       "      <td>5</td>\n",
       "      <td>10</td>\n",
       "      <td>2017</td>\n",
       "      <td>2</td>\n",
       "      <td>2</td>\n",
       "      <td>9</td>\n",
       "      <td>...</td>\n",
       "      <td>2</td>\n",
       "      <td>2</td>\n",
       "      <td>1</td>\n",
       "      <td>2012</td>\n",
       "      <td>38706</td>\n",
       "      <td>16280</td>\n",
       "      <td>7</td>\n",
       "      <td>1</td>\n",
       "      <td>7</td>\n",
       "      <td>1.0</td>\n",
       "    </tr>\n",
       "  </tbody>\n",
       "</table>\n",
       "<p>5 rows × 22 columns</p>\n",
       "</div>"
      ],
      "text/plain": [
       "   artist_name  bd  city  composer  expiration_date_day  \\\n",
       "0         3784   0     0     16653                    5   \n",
       "1        36867  24    11     74276                   11   \n",
       "2        24601  24    11     51540                   11   \n",
       "3        31651  24    11     41991                   11   \n",
       "4         5190   0     0      9701                    5   \n",
       "\n",
       "   expiration_date_month  expiration_date_year  gender  genre_ids  language  \\\n",
       "0                     10                  2017       2        307         9   \n",
       "1                      9                  2017       0         97         9   \n",
       "2                      9                  2017       0         97         9   \n",
       "3                      9                  2017       0          6         1   \n",
       "4                     10                  2017       2          2         9   \n",
       "\n",
       "   ...  registered_via  registration_init_time_day  \\\n",
       "0  ...               2                           2   \n",
       "1  ...               3                          25   \n",
       "2  ...               3                          25   \n",
       "3  ...               3                          25   \n",
       "4  ...               2                           2   \n",
       "\n",
       "   registration_init_time_month  registration_init_time_year  song_id  \\\n",
       "0                             1                         2012    86884   \n",
       "1                             5                         2011   260594   \n",
       "2                             5                         2011   140755   \n",
       "3                             5                         2011    27577   \n",
       "4                             1                         2012    38706   \n",
       "\n",
       "   song_length  source_screen_name  source_system_tab  source_type  target  \n",
       "0        20662                   7                  1            7     1.0  \n",
       "1        39586                   8                  3            4     1.0  \n",
       "2        25563                   8                  3            4     1.0  \n",
       "3        33240                   8                  3            4     1.0  \n",
       "4        16280                   7                  1            7     1.0  \n",
       "\n",
       "[5 rows x 22 columns]"
      ]
     },
     "execution_count": 13,
     "metadata": {},
     "output_type": "execute_result"
    }
   ],
   "source": [
    "train.head(5)"
   ]
  },
  {
   "cell_type": "code",
   "execution_count": 14,
   "metadata": {},
   "outputs": [
    {
     "data": {
      "text/html": [
       "<div>\n",
       "<style scoped>\n",
       "    .dataframe tbody tr th:only-of-type {\n",
       "        vertical-align: middle;\n",
       "    }\n",
       "\n",
       "    .dataframe tbody tr th {\n",
       "        vertical-align: top;\n",
       "    }\n",
       "\n",
       "    .dataframe thead th {\n",
       "        text-align: right;\n",
       "    }\n",
       "</style>\n",
       "<table border=\"1\" class=\"dataframe\">\n",
       "  <thead>\n",
       "    <tr style=\"text-align: right;\">\n",
       "      <th></th>\n",
       "      <th>artist_name</th>\n",
       "      <th>bd</th>\n",
       "      <th>city</th>\n",
       "      <th>composer</th>\n",
       "      <th>expiration_date_day</th>\n",
       "      <th>expiration_date_month</th>\n",
       "      <th>expiration_date_year</th>\n",
       "      <th>gender</th>\n",
       "      <th>genre_ids</th>\n",
       "      <th>id</th>\n",
       "      <th>...</th>\n",
       "      <th>msno</th>\n",
       "      <th>registered_via</th>\n",
       "      <th>registration_init_time_day</th>\n",
       "      <th>registration_init_time_month</th>\n",
       "      <th>registration_init_time_year</th>\n",
       "      <th>song_id</th>\n",
       "      <th>song_length</th>\n",
       "      <th>source_screen_name</th>\n",
       "      <th>source_system_tab</th>\n",
       "      <th>source_type</th>\n",
       "    </tr>\n",
       "  </thead>\n",
       "  <tbody>\n",
       "    <tr>\n",
       "      <th>0</th>\n",
       "      <td>42813</td>\n",
       "      <td>0</td>\n",
       "      <td>0</td>\n",
       "      <td>56689</td>\n",
       "      <td>18</td>\n",
       "      <td>9</td>\n",
       "      <td>2017</td>\n",
       "      <td>2</td>\n",
       "      <td>364</td>\n",
       "      <td>0.0</td>\n",
       "      <td>...</td>\n",
       "      <td>17724</td>\n",
       "      <td>2</td>\n",
       "      <td>19</td>\n",
       "      <td>2</td>\n",
       "      <td>2016</td>\n",
       "      <td>228222</td>\n",
       "      <td>25229</td>\n",
       "      <td>8</td>\n",
       "      <td>3</td>\n",
       "      <td>3</td>\n",
       "    </tr>\n",
       "    <tr>\n",
       "      <th>1</th>\n",
       "      <td>42633</td>\n",
       "      <td>0</td>\n",
       "      <td>0</td>\n",
       "      <td>79915</td>\n",
       "      <td>18</td>\n",
       "      <td>9</td>\n",
       "      <td>2017</td>\n",
       "      <td>2</td>\n",
       "      <td>371</td>\n",
       "      <td>1.0</td>\n",
       "      <td>...</td>\n",
       "      <td>17724</td>\n",
       "      <td>2</td>\n",
       "      <td>19</td>\n",
       "      <td>2</td>\n",
       "      <td>2016</td>\n",
       "      <td>407039</td>\n",
       "      <td>45559</td>\n",
       "      <td>8</td>\n",
       "      <td>3</td>\n",
       "      <td>3</td>\n",
       "    </tr>\n",
       "    <tr>\n",
       "      <th>2</th>\n",
       "      <td>38492</td>\n",
       "      <td>0</td>\n",
       "      <td>0</td>\n",
       "      <td>73206</td>\n",
       "      <td>24</td>\n",
       "      <td>11</td>\n",
       "      <td>2016</td>\n",
       "      <td>2</td>\n",
       "      <td>200</td>\n",
       "      <td>2.0</td>\n",
       "      <td>...</td>\n",
       "      <td>977</td>\n",
       "      <td>1</td>\n",
       "      <td>17</td>\n",
       "      <td>11</td>\n",
       "      <td>2016</td>\n",
       "      <td>70211</td>\n",
       "      <td>44899</td>\n",
       "      <td>22</td>\n",
       "      <td>0</td>\n",
       "      <td>10</td>\n",
       "    </tr>\n",
       "    <tr>\n",
       "      <th>3</th>\n",
       "      <td>36423</td>\n",
       "      <td>30</td>\n",
       "      <td>1</td>\n",
       "      <td>67327</td>\n",
       "      <td>30</td>\n",
       "      <td>4</td>\n",
       "      <td>2017</td>\n",
       "      <td>1</td>\n",
       "      <td>371</td>\n",
       "      <td>3.0</td>\n",
       "      <td>...</td>\n",
       "      <td>1878</td>\n",
       "      <td>3</td>\n",
       "      <td>25</td>\n",
       "      <td>7</td>\n",
       "      <td>2007</td>\n",
       "      <td>419092</td>\n",
       "      <td>39710</td>\n",
       "      <td>16</td>\n",
       "      <td>6</td>\n",
       "      <td>8</td>\n",
       "    </tr>\n",
       "    <tr>\n",
       "      <th>4</th>\n",
       "      <td>38298</td>\n",
       "      <td>30</td>\n",
       "      <td>1</td>\n",
       "      <td>52438</td>\n",
       "      <td>30</td>\n",
       "      <td>4</td>\n",
       "      <td>2017</td>\n",
       "      <td>1</td>\n",
       "      <td>519</td>\n",
       "      <td>4.0</td>\n",
       "      <td>...</td>\n",
       "      <td>1878</td>\n",
       "      <td>3</td>\n",
       "      <td>25</td>\n",
       "      <td>7</td>\n",
       "      <td>2007</td>\n",
       "      <td>160096</td>\n",
       "      <td>18478</td>\n",
       "      <td>16</td>\n",
       "      <td>6</td>\n",
       "      <td>8</td>\n",
       "    </tr>\n",
       "  </tbody>\n",
       "</table>\n",
       "<p>5 rows × 22 columns</p>\n",
       "</div>"
      ],
      "text/plain": [
       "   artist_name  bd  city  composer  expiration_date_day  \\\n",
       "0        42813   0     0     56689                   18   \n",
       "1        42633   0     0     79915                   18   \n",
       "2        38492   0     0     73206                   24   \n",
       "3        36423  30     1     67327                   30   \n",
       "4        38298  30     1     52438                   30   \n",
       "\n",
       "   expiration_date_month  expiration_date_year  gender  genre_ids   id  ...  \\\n",
       "0                      9                  2017       2        364  0.0  ...   \n",
       "1                      9                  2017       2        371  1.0  ...   \n",
       "2                     11                  2016       2        200  2.0  ...   \n",
       "3                      4                  2017       1        371  3.0  ...   \n",
       "4                      4                  2017       1        519  4.0  ...   \n",
       "\n",
       "    msno  registered_via  registration_init_time_day  \\\n",
       "0  17724               2                          19   \n",
       "1  17724               2                          19   \n",
       "2    977               1                          17   \n",
       "3   1878               3                          25   \n",
       "4   1878               3                          25   \n",
       "\n",
       "   registration_init_time_month  registration_init_time_year  song_id  \\\n",
       "0                             2                         2016   228222   \n",
       "1                             2                         2016   407039   \n",
       "2                            11                         2016    70211   \n",
       "3                             7                         2007   419092   \n",
       "4                             7                         2007   160096   \n",
       "\n",
       "   song_length  source_screen_name  source_system_tab  source_type  \n",
       "0        25229                   8                  3            3  \n",
       "1        45559                   8                  3            3  \n",
       "2        44899                  22                  0           10  \n",
       "3        39710                  16                  6            8  \n",
       "4        18478                  16                  6            8  \n",
       "\n",
       "[5 rows x 22 columns]"
      ]
     },
     "execution_count": 14,
     "metadata": {},
     "output_type": "execute_result"
    }
   ],
   "source": [
    "test.head(5)"
   ]
  },
  {
   "cell_type": "code",
   "execution_count": null,
   "metadata": {},
   "outputs": [],
   "source": []
  },
  {
   "cell_type": "code",
   "execution_count": 32,
   "metadata": {},
   "outputs": [
    {
     "data": {
      "text/plain": [
       "(1475484, 11)"
      ]
     },
     "execution_count": 32,
     "metadata": {},
     "output_type": "execute_result"
    }
   ],
   "source": [
    "\n"
   ]
  },
  {
   "cell_type": "code",
   "execution_count": null,
   "metadata": {},
   "outputs": [],
   "source": []
  },
  {
   "cell_type": "code",
   "execution_count": 17,
   "metadata": {},
   "outputs": [],
   "source": [
    "print('data split start...')\n",
    "# Features and target varaibles\n",
    "X = train.drop(columns='target',axis=1)\n",
    "Y = train['target']\n",
    "# Train and test split\n",
    "X_train_all, X_test, y_train_all, y_test = train_test_split(X, Y, test_size=0.2)\n",
    "\n",
    "# Further split train and validation set\n",
    "X_train, X_val, y_train, y_val = train_test_split(\n",
    "    X_train_all, y_train_all, test_size=0.2)\n",
    "print('data split done.')"
   ]
  },
  {
   "cell_type": "code",
   "execution_count": 18,
   "metadata": {},
   "outputs": [
    {
     "data": {
      "text/plain": [
       "199"
      ]
     },
     "execution_count": 18,
     "metadata": {},
     "output_type": "execute_result"
    }
   ],
   "source": [
    "del X_train_all\n",
    "del y_train_all\n",
    "import gc\n",
    "gc.collect()"
   ]
  },
  {
   "cell_type": "code",
   "execution_count": null,
   "metadata": {},
   "outputs": [],
   "source": []
  },
  {
   "cell_type": "code",
   "execution_count": 19,
   "metadata": {},
   "outputs": [],
   "source": [
    "# Sampled data\n",
    "idx = random.sample(range(0,X_train.shape[0]), 100000)\n",
    "X_train_sampled = X_train.iloc[idx]\n",
    "y_train_sampled = y_train.iloc[idx]"
   ]
  },
  {
   "cell_type": "code",
   "execution_count": 20,
   "metadata": {},
   "outputs": [
    {
     "name": "stdout",
     "output_type": "stream",
     "text": [
      "Mean accuracy score validation: 0.598\n"
     ]
    }
   ],
   "source": [
    "# Base line model\n",
    "from sklearn.metrics import accuracy_score\n",
    "m = LogisticRegression()\n",
    "m.fit(X_train_sampled, y_train_sampled )\n",
    "predicted = m.predict(X_val)\n",
    "accuracy = accuracy_score(y_val, predicted)\n",
    "print(f'Mean accuracy score validation: {accuracy:.3}')"
   ]
  },
  {
   "cell_type": "code",
   "execution_count": 21,
   "metadata": {},
   "outputs": [
    {
     "data": {
      "text/html": [
       "<div>\n",
       "<style scoped>\n",
       "    .dataframe tbody tr th:only-of-type {\n",
       "        vertical-align: middle;\n",
       "    }\n",
       "\n",
       "    .dataframe tbody tr th {\n",
       "        vertical-align: top;\n",
       "    }\n",
       "\n",
       "    .dataframe thead th {\n",
       "        text-align: right;\n",
       "    }\n",
       "</style>\n",
       "<table border=\"1\" class=\"dataframe\">\n",
       "  <thead>\n",
       "    <tr style=\"text-align: right;\">\n",
       "      <th></th>\n",
       "      <th>cols</th>\n",
       "      <th>imp</th>\n",
       "    </tr>\n",
       "  </thead>\n",
       "  <tbody>\n",
       "    <tr>\n",
       "      <th>20</th>\n",
       "      <td>source_type</td>\n",
       "      <td>0.097940</td>\n",
       "    </tr>\n",
       "    <tr>\n",
       "      <th>7</th>\n",
       "      <td>gender</td>\n",
       "      <td>0.030532</td>\n",
       "    </tr>\n",
       "    <tr>\n",
       "      <th>9</th>\n",
       "      <td>language</td>\n",
       "      <td>0.017869</td>\n",
       "    </tr>\n",
       "    <tr>\n",
       "      <th>5</th>\n",
       "      <td>expiration_date_month</td>\n",
       "      <td>0.013591</td>\n",
       "    </tr>\n",
       "    <tr>\n",
       "      <th>12</th>\n",
       "      <td>registered_via</td>\n",
       "      <td>0.013451</td>\n",
       "    </tr>\n",
       "    <tr>\n",
       "      <th>19</th>\n",
       "      <td>source_system_tab</td>\n",
       "      <td>0.008115</td>\n",
       "    </tr>\n",
       "    <tr>\n",
       "      <th>14</th>\n",
       "      <td>registration_init_time_month</td>\n",
       "      <td>0.005281</td>\n",
       "    </tr>\n",
       "    <tr>\n",
       "      <th>18</th>\n",
       "      <td>source_screen_name</td>\n",
       "      <td>0.004919</td>\n",
       "    </tr>\n",
       "    <tr>\n",
       "      <th>6</th>\n",
       "      <td>expiration_date_year</td>\n",
       "      <td>0.001638</td>\n",
       "    </tr>\n",
       "    <tr>\n",
       "      <th>15</th>\n",
       "      <td>registration_init_time_year</td>\n",
       "      <td>0.001308</td>\n",
       "    </tr>\n",
       "  </tbody>\n",
       "</table>\n",
       "</div>"
      ],
      "text/plain": [
       "                            cols       imp\n",
       "20                   source_type  0.097940\n",
       "7                         gender  0.030532\n",
       "9                       language  0.017869\n",
       "5          expiration_date_month  0.013591\n",
       "12                registered_via  0.013451\n",
       "19             source_system_tab  0.008115\n",
       "14  registration_init_time_month  0.005281\n",
       "18            source_screen_name  0.004919\n",
       "6           expiration_date_year  0.001638\n",
       "15   registration_init_time_year  0.001308"
      ]
     },
     "execution_count": 21,
     "metadata": {},
     "output_type": "execute_result"
    }
   ],
   "source": [
    "#determine the importance of features\n",
    "def mod_feat_importance(m, df):\n",
    "    return pd.DataFrame({'cols':df.columns, 'imp':np.abs(m.coef_[0])}\n",
    "                       ).sort_values('imp', ascending=False)\n",
    "\n",
    "fi = mod_feat_importance(m, X_train_sampled ); fi[:10]"
   ]
  },
  {
   "cell_type": "code",
   "execution_count": 22,
   "metadata": {},
   "outputs": [
    {
     "data": {
      "image/png": "[encoded data removed]",
      "text/plain": [
       "<Figure size 864x504 with 1 Axes>"
      ]
     },
     "metadata": {
      "needs_background": "light"
     },
     "output_type": "display_data"
    }
   ],
   "source": [
    "def plot_fi(fi):return fi.plot('cols', 'imp', 'barh',\n",
    "                               figsize=(12,7), legend=False)\n",
    "plot_fi(fi[:30]);"
   ]
  },
  {
   "cell_type": "code",
   "execution_count": 23,
   "metadata": {},
   "outputs": [
    {
     "data": {
      "text/plain": [
       "11"
      ]
     },
     "execution_count": 23,
     "metadata": {},
     "output_type": "execute_result"
    }
   ],
   "source": [
    "to_keep = fi[fi.imp>0.001].cols; len(to_keep)"
   ]
  },
  {
   "cell_type": "code",
   "execution_count": 24,
   "metadata": {},
   "outputs": [],
   "source": [
    "X_train_sampled = X_train_sampled[to_keep]\n",
    "X_val = X_val[to_keep]\n",
    "X_test = X_test[to_keep]\n",
    "X_train = X_train[to_keep]"
   ]
  },
  {
   "cell_type": "code",
   "execution_count": 25,
   "metadata": {},
   "outputs": [
    {
     "data": {
      "text/plain": [
       "'0.5989'"
      ]
     },
     "execution_count": 25,
     "metadata": {},
     "output_type": "execute_result"
    }
   ],
   "source": [
    "# Pipeline and grid search\n",
    "pipe_dt = Pipeline([('clf', LogisticRegression())]) # Estimator: ML algorithm\n",
    "\n",
    "grid_params = dict(clf__penalty=['l1', 'l2'],\n",
    "                  clf__C = [.3,.5,.7,1])\n",
    "\n",
    "gs = GridSearchCV(estimator=pipe_dt,  \n",
    "                  param_grid=grid_params,\n",
    "                  scoring='accuracy',\n",
    "                  cv=5)\n",
    "\n",
    "gs.fit(X_train_sampled, y_train_sampled)\n",
    "f\"{gs.score(X_test, y_test):.4f}\""
   ]
  },
  {
   "cell_type": "code",
   "execution_count": 26,
   "metadata": {},
   "outputs": [
    {
     "name": "stdout",
     "output_type": "stream",
     "text": [
      "Pipeline(memory=None,\n",
      "         steps=[('clf',\n",
      "                 LogisticRegression(C=0.5, class_weight=None, dual=False,\n",
      "                                    fit_intercept=True, intercept_scaling=1,\n",
      "                                    l1_ratio=None, max_iter=100,\n",
      "                                    multi_class='warn', n_jobs=None,\n",
      "                                    penalty='l2', random_state=None,\n",
      "                                    solver='warn', tol=0.0001, verbose=0,\n",
      "                                    warm_start=False))],\n",
      "         verbose=False)\n"
     ]
    },
    {
     "data": {
      "text/plain": [
       "LogisticRegression(C=0.5, class_weight=None, dual=False, fit_intercept=True,\n",
       "                   intercept_scaling=1, l1_ratio=None, max_iter=100,\n",
       "                   multi_class='warn', n_jobs=None, penalty='l2',\n",
       "                   random_state=None, solver='warn', tol=0.0001, verbose=0,\n",
       "                   warm_start=False)"
      ]
     },
     "execution_count": 26,
     "metadata": {},
     "output_type": "execute_result"
    }
   ],
   "source": [
    "# Best algorithm with best hyperparameters \n",
    "# (need to fit it to find specific model parameters)\n",
    "print(gs.best_estimator_)\n",
    "\n",
    "# Best model with specific model parameters\n",
    "gs.best_estimator_.get_params()['clf']"
   ]
  },
  {
   "cell_type": "code",
   "execution_count": 33,
   "metadata": {},
   "outputs": [
    {
     "name": "stdout",
     "output_type": "stream",
     "text": [
      "Mean accuracy score validation: 0.599\n"
     ]
    }
   ],
   "source": [
    "# Fitting best model\n",
    "m = LogisticRegression(C=0.5,penalty='l2')\n",
    "m.fit(X_train, y_train)\n",
    "predicted = m.predict(X_val)\n",
    "accuracy = accuracy_score(y_val, predicted)\n",
    "print(f'Mean accuracy score validation: {accuracy:.3}')"
   ]
  },
  {
   "cell_type": "code",
   "execution_count": 34,
   "metadata": {},
   "outputs": [
    {
     "name": "stdout",
     "output_type": "stream",
     "text": [
      "Mean accuracy score test: 0.6\n"
     ]
    }
   ],
   "source": [
    "# Test accuracy\n",
    "predicted = m.predict(X_test)\n",
    "accuracy = accuracy_score(y_test, predicted)\n",
    "print(f'Mean accuracy score test: {accuracy:.3}')"
   ]
  },
  {
   "cell_type": "code",
   "execution_count": 35,
   "metadata": {},
   "outputs": [
    {
     "name": "stdout",
     "output_type": "stream",
     "text": [
      "precision: [0.60389621 0.59586699]\n",
      "recall: [0.55795766 0.64040493]\n",
      "fscore: [0.58001875 0.6173337 ]\n",
      "support: [731258 744226]\n"
     ]
    }
   ],
   "source": [
    "from sklearn.metrics import precision_recall_fscore_support as score\n",
    "precision, recall, fscore, support = score(y_test, predicted)\n",
    "print('precision: {}'.format(precision))\n",
    "print('recall: {}'.format(recall))\n",
    "print('fscore: {}'.format(fscore))\n",
    "print('support: {}'.format(support))"
   ]
  },
  {
   "cell_type": "code",
   "execution_count": 36,
   "metadata": {},
   "outputs": [
    {
     "name": "stdout",
     "output_type": "stream",
     "text": [
      "Confusion matrix, without normalization\n",
      "[[408011 323247]\n",
      " [267620 476606]]\n",
      "Normalized confusion matrix\n",
      "[[0.56 0.44]\n",
      " [0.36 0.64]]\n"
     ]
    },
    {
     "data": {
      "image/png": "[encoded data removed]",
      "text/plain": [
       "<Figure size 432x288 with 2 Axes>"
      ]
     },
     "metadata": {
      "needs_background": "light"
     },
     "output_type": "display_data"
    },
    {
     "data": {
      "image/png": "[encoded data removed]",
      "text/plain": [
       "<Figure size 432x288 with 2 Axes>"
      ]
     },
     "metadata": {
      "needs_background": "light"
     },
     "output_type": "display_data"
    }
   ],
   "source": [
    "#plot confusion matrix\n",
    "import itertools\n",
    "from sklearn.metrics import confusion_matrix\n",
    "class_names = ['0','1']\n",
    "def plot_confusion_matrix(cm, classes,\n",
    "                          normalize=False,\n",
    "                          title='Confusion matrix',\n",
    "                          cmap=plt.cm.Blues):\n",
    "    \"\"\"\n",
    "    This function prints and plots the confusion matrix.\n",
    "    Normalization can be applied by setting `normalize=True`.\n",
    "    \"\"\"\n",
    "    if normalize:\n",
    "        cm = cm.astype('float') / cm.sum(axis=1)[:, np.newaxis]\n",
    "        print(\"Normalized confusion matrix\")\n",
    "    else:\n",
    "        print('Confusion matrix, without normalization')\n",
    "\n",
    "    print(cm)\n",
    "\n",
    "    plt.imshow(cm, interpolation='nearest', cmap=cmap)\n",
    "    plt.title(title)\n",
    "    plt.colorbar()\n",
    "    tick_marks = np.arange(2)\n",
    "    plt.xticks(tick_marks, classes, rotation=45)\n",
    "    plt.yticks(tick_marks, classes)\n",
    "\n",
    "    fmt = '.2f' if normalize else 'd'\n",
    "    thresh = cm.max() / 2.\n",
    "    for i, j in itertools.product(range(cm.shape[0]), range(cm.shape[1])):\n",
    "        plt.text(j, i, format(cm[i, j], fmt),\n",
    "                 horizontalalignment=\"center\",\n",
    "                 color=\"white\" if cm[i, j] > thresh else \"black\")\n",
    "\n",
    "    plt.ylabel('True label')\n",
    "    plt.xlabel('Predicted label')\n",
    "    plt.tight_layout()\n",
    "\n",
    "\n",
    "# Compute confusion matrix\n",
    "cnf_matrix = confusion_matrix(y_test, predicted)\n",
    "np.set_printoptions(precision=2)\n",
    "\n",
    "# Plot non-normalized confusion matrix\n",
    "plt.figure()\n",
    "plot_confusion_matrix(cnf_matrix, classes=class_names,\n",
    "                      title='Confusion matrix, without normalization')\n",
    "\n",
    "# Plot normalized confusion matrix\n",
    "plt.figure()\n",
    "plot_confusion_matrix(cnf_matrix, classes=class_names, normalize=True,\n",
    "                      title='Normalized confusion matrix')\n",
    "\n",
    "plt.show()"
   ]
  },
  {
   "cell_type": "code",
   "execution_count": 37,
   "metadata": {},
   "outputs": [],
   "source": [
    "pd.DataFrame(predicted, columns=['LR']).to_csv('LR_test_score.csv',index=False)"
   ]
  },
  {
   "cell_type": "code",
   "execution_count": 38,
   "metadata": {},
   "outputs": [],
   "source": [
    "# Predict probability for ROC curve\n",
    "predicted = m.predict_proba(X_test)"
   ]
  },
  {
   "cell_type": "code",
   "execution_count": 39,
   "metadata": {},
   "outputs": [
    {
     "data": {
      "image/png": "[encoded data removed]",
      "text/plain": [
       "<Figure size 432x288 with 1 Axes>"
      ]
     },
     "metadata": {
      "needs_background": "light"
     },
     "output_type": "display_data"
    }
   ],
   "source": [
    "from sklearn.metrics import roc_curve, auc\n",
    "import matplotlib.pyplot as plt\n",
    "import random\n",
    "\n",
    "false_positive_rate, true_positive_rate, thresholds = roc_curve(y_test, [i[1] for i in predicted])\n",
    "roc_auc = auc(false_positive_rate, true_positive_rate)\n",
    "\n",
    "plt.title('Receiver Operating Characteristic')\n",
    "plt.plot(false_positive_rate, true_positive_rate, 'b',label='AUC = %0.2f'% roc_auc)\n",
    "plt.legend(loc='lower right')\n",
    "plt.plot([0,1],[0,1],'r--')\n",
    "plt.xlim([0,1])\n",
    "plt.ylim([0,1])\n",
    "plt.ylabel('True Positive Rate')\n",
    "plt.xlabel('False Positive Rate')\n",
    "plt.show()"
   ]
  },
  {
   "cell_type": "code",
   "execution_count": null,
   "metadata": {},
   "outputs": [],
   "source": []
  },
  {
   "cell_type": "code",
   "execution_count": null,
   "metadata": {},
   "outputs": [],
   "source": []
  },
  {
   "cell_type": "code",
   "execution_count": null,
   "metadata": {},
   "outputs": [],
   "source": []
  }
 ],
 "metadata": {
  "kernelspec": {
   "display_name": "Python 3",
   "language": "python",
   "name": "python3"
  },
  "language_info": {
   "codemirror_mode": {
    "name": "ipython",
    "version": 3
   },
   "file_extension": ".py",
   "mimetype": "text/x-python",
   "name": "python",
   "nbconvert_exporter": "python",
   "pygments_lexer": "ipython3",
   "version": "3.7.3"
  }
 },
 "nbformat": 4,
 "nbformat_minor": 2
}
