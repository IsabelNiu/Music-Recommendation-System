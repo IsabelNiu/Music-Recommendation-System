{
 "cells": [
  {
   "cell_type": "code",
   "execution_count": 30,
   "metadata": {
    "pycharm": {
     "is_executing": true
    }
   },
   "outputs": [],
   "source": [
    "from sklearn import tree, metrics, ensemble\n",
    "from sklearn.model_selection import cross_validate, GridSearchCV\n",
    "from sklearn.decomposition import PCA\n",
    "from sklearn.preprocessing import LabelEncoder\n",
    "import numpy as np\n",
    "import pandas as pd\n",
    "import seaborn as sns\n",
    "import matplotlib.pyplot as plt\n",
    "import warnings\n",
    "warnings.filterwarnings('ignore')"
   ]
  },
  {
   "cell_type": "code",
   "execution_count": 2,
   "metadata": {
    "pycharm": {
     "is_executing": true
    }
   },
   "outputs": [
    {
     "name": "stdout",
     "output_type": "stream",
     "text": [
      "/Users/isabelniu/Documents/HKUST-20Spring/ML/Project\n"
     ]
    }
   ],
   "source": [
    "import os\n",
    "print(os.getcwd())"
   ]
  },
  {
   "cell_type": "code",
   "execution_count": 57,
   "metadata": {
    "pycharm": {
     "is_executing": true,
     "name": "#%%\n"
    }
   },
   "outputs": [
    {
     "name": "stdout",
     "output_type": "stream",
     "text": [
      "start reading...\n",
      "done reading\n"
     ]
    }
   ],
   "source": [
    "#read data\n",
    "print('start reading...')\n",
    "prefix = \"/Users/isabelniu/Documents/HKUST-20Spring/ML/Project/DataSet/KKBOX/\"\n",
    "train = pd.read_csv(prefix + \"train.csv\")\n",
    "test = pd.read_csv(prefix + \"test.csv\")\n",
    "songs = pd.read_csv(prefix + \"songs.csv\")\n",
    "#song_extra = pd.read_csv(prefix + \"song_extra_info.csv\")\n",
    "members = pd.read_csv(prefix + \"members.csv\")\n",
    "\n",
    "print('done reading')"
   ]
  },
  {
   "cell_type": "code",
   "execution_count": 58,
   "metadata": {},
   "outputs": [
    {
     "name": "stdout",
     "output_type": "stream",
     "text": [
      "start merging...\n",
      "done merging\n"
     ]
    }
   ],
   "source": [
    "#merge song info with training data using song id\n",
    "print('start merging...')\n",
    "train = pd.merge(train, songs, on='song_id', how='left')\n",
    "test = pd.merge(test, songs, on='song_id', how='left')\n",
    "del songs\n",
    "\n",
    "#merge user info with training data using user id\n",
    "train = pd.merge(train, members, on='msno', how='left')\n",
    "test = pd.merge(test, members, on='msno', how='left')\n",
    "del members\n",
    "\n",
    "print('done merging')"
   ]
  },
  {
   "cell_type": "code",
   "execution_count": 59,
   "metadata": {},
   "outputs": [
    {
     "data": {
      "text/plain": [
       "(7377418, 18)"
      ]
     },
     "execution_count": 59,
     "metadata": {},
     "output_type": "execute_result"
    }
   ],
   "source": [
    "train.shape"
   ]
  },
  {
   "cell_type": "code",
   "execution_count": 62,
   "metadata": {},
   "outputs": [
    {
     "data": {
      "text/plain": [
       "(2556790, 18)"
      ]
     },
     "execution_count": 62,
     "metadata": {},
     "output_type": "execute_result"
    }
   ],
   "source": [
    "test.shape"
   ]
  },
  {
   "cell_type": "code",
   "execution_count": 63,
   "metadata": {
    "pycharm": {
     "is_executing": true
    }
   },
   "outputs": [
    {
     "data": {
      "text/plain": [
       "Index(['msno', 'song_id', 'source_system_tab', 'source_screen_name',\n",
       "       'source_type', 'target', 'song_length', 'genre_ids', 'artist_name',\n",
       "       'composer', 'lyricist', 'language', 'city', 'bd', 'gender',\n",
       "       'registered_via', 'registration_init_time', 'expiration_date'],\n",
       "      dtype='object')"
      ]
     },
     "execution_count": 63,
     "metadata": {},
     "output_type": "execute_result"
    }
   ],
   "source": [
    "train.columns"
   ]
  },
  {
   "cell_type": "code",
   "execution_count": 64,
   "metadata": {
    "pycharm": {
     "is_executing": true
    }
   },
   "outputs": [
    {
     "data": {
      "text/plain": [
       "msno                            0\n",
       "song_id                         0\n",
       "source_system_tab           24849\n",
       "source_screen_name         414804\n",
       "source_type                 21539\n",
       "target                          0\n",
       "song_length                   114\n",
       "genre_ids                  118455\n",
       "artist_name                   114\n",
       "composer                  1675706\n",
       "lyricist                  3178798\n",
       "language                      150\n",
       "city                            0\n",
       "bd                              0\n",
       "gender                    2961479\n",
       "registered_via                  0\n",
       "registration_init_time          0\n",
       "expiration_date                 0\n",
       "dtype: int64"
      ]
     },
     "execution_count": 64,
     "metadata": {},
     "output_type": "execute_result"
    }
   ],
   "source": [
    "#count null values\n",
    "train.isnull().sum()\n",
    "#df.isnull().sum()/df.isnull().count()*100"
   ]
  },
  {
   "cell_type": "code",
   "execution_count": 65,
   "metadata": {},
   "outputs": [
    {
     "data": {
      "text/plain": [
       "id                              0\n",
       "msno                            0\n",
       "song_id                         0\n",
       "source_system_tab            8442\n",
       "source_screen_name         162883\n",
       "source_type                  7297\n",
       "song_length                    25\n",
       "genre_ids                   42110\n",
       "artist_name                    25\n",
       "composer                   619304\n",
       "lyricist                  1224744\n",
       "language                       42\n",
       "city                            0\n",
       "bd                              0\n",
       "gender                    1052224\n",
       "registered_via                  0\n",
       "registration_init_time          0\n",
       "expiration_date                 0\n",
       "dtype: int64"
      ]
     },
     "execution_count": 65,
     "metadata": {},
     "output_type": "execute_result"
    }
   ],
   "source": [
    "test.isnull().sum()"
   ]
  },
  {
   "cell_type": "code",
   "execution_count": 66,
   "metadata": {},
   "outputs": [
    {
     "data": {
      "text/plain": [
       "msno                       object\n",
       "song_id                    object\n",
       "source_system_tab          object\n",
       "source_screen_name         object\n",
       "source_type                object\n",
       "target                      int64\n",
       "song_length               float64\n",
       "genre_ids                  object\n",
       "artist_name                object\n",
       "composer                   object\n",
       "lyricist                   object\n",
       "language                  float64\n",
       "city                        int64\n",
       "bd                          int64\n",
       "gender                     object\n",
       "registered_via              int64\n",
       "registration_init_time      int64\n",
       "expiration_date             int64\n",
       "dtype: object"
      ]
     },
     "execution_count": 66,
     "metadata": {},
     "output_type": "execute_result"
    }
   ],
   "source": [
    "train.dtypes"
   ]
  },
  {
   "cell_type": "code",
   "execution_count": 67,
   "metadata": {},
   "outputs": [],
   "source": [
    "#set NA of objects to be 'unknown'\n",
    "#set NA of integers and floats to be 0\n",
    "#for i in train.select_dtypes(include=['object']).columns:\n",
    "#    train[i][train[i].isnull()] = 'unknown'\n",
    "#train = train.fillna(value=0)"
   ]
  },
  {
   "cell_type": "code",
   "execution_count": 68,
   "metadata": {
    "pycharm": {
     "is_executing": true
    }
   },
   "outputs": [],
   "source": [
    "#set NA of objects to be 'unknown'\n",
    "#set NA of integers and floats to be 0\n",
    "#for i in test.select_dtypes(include=['object']).columns:\n",
    "#    test[i][test[i].isnull()] = 'unknown'\n",
    "#test = test.fillna(value=0)\n",
    "#print('NA filled.')"
   ]
  },
  {
   "cell_type": "code",
   "execution_count": 69,
   "metadata": {
    "pycharm": {
     "is_executing": true
    }
   },
   "outputs": [],
   "source": [
    "# creating three columns of month, year and day using extraction from registration_init_date\n",
    "train.registration_init_time = pd.to_datetime(train.registration_init_time, format='%Y%m%d', errors='ignore')\n",
    "train['registration_init_time_year'] = train['registration_init_time'].dt.year\n",
    "train['registration_init_time_month'] = train['registration_init_time'].dt.month\n",
    "train['registration_init_time_day'] = train['registration_init_time'].dt.day\n",
    "test.registration_init_time = pd.to_datetime(test.registration_init_time, format='%Y%m%d', errors='ignore')\n",
    "test['registration_init_time_year'] = test['registration_init_time'].dt.year\n",
    "test['registration_init_time_month'] = test['registration_init_time'].dt.month\n",
    "test['registration_init_time_day'] = test['registration_init_time'].dt.day\n",
    "\n",
    "\n",
    "# creating three columns of month, year and day using extraction from expiration_date\n",
    "train.expiration_date = pd.to_datetime(train.expiration_date,  format='%Y%m%d', errors='ignore')\n",
    "train['expiration_date_year'] = train['expiration_date'].dt.year\n",
    "train['expiration_date_month'] = train['expiration_date'].dt.month\n",
    "train['expiration_date_day'] = train['expiration_date'].dt.day\n",
    "test.expiration_date = pd.to_datetime(test.expiration_date,  format='%Y%m%d', errors='ignore')\n",
    "test['expiration_date_year'] = test['expiration_date'].dt.year\n",
    "test['expiration_date_month'] = test['expiration_date'].dt.month\n",
    "test['expiration_date_day'] = test['expiration_date'].dt.day"
   ]
  },
  {
   "cell_type": "code",
   "execution_count": 70,
   "metadata": {
    "pycharm": {
     "is_executing": true
    }
   },
   "outputs": [],
   "source": [
    "# convert date items and non-numeric items into categorical values\n",
    "#train['registration_init_time'] = train['registration_init_time'].astype('category')\n",
    "#train['expiration_date'] = train['expiration_date'].astype('category')\n",
    "#for col in train.select_dtypes(include=['object']).columns:\n",
    "#    train[col] = train[col].astype('category')"
   ]
  },
  {
   "cell_type": "code",
   "execution_count": 71,
   "metadata": {},
   "outputs": [],
   "source": [
    "#do the same for test data\n",
    "#test['registration_init_time'] = test['registration_init_time'].astype('category')\n",
    "#test['expiration_date'] = test['expiration_date'].astype('category')\n",
    "#for col in test.select_dtypes(include=['object']).columns:\n",
    "#    test[col] = test[col].astype('category')"
   ]
  },
  {
   "cell_type": "code",
   "execution_count": 72,
   "metadata": {},
   "outputs": [
    {
     "data": {
      "text/plain": [
       "msno                                    object\n",
       "song_id                                 object\n",
       "source_system_tab                       object\n",
       "source_screen_name                      object\n",
       "source_type                             object\n",
       "target                                   int64\n",
       "song_length                            float64\n",
       "genre_ids                               object\n",
       "artist_name                             object\n",
       "composer                                object\n",
       "lyricist                                object\n",
       "language                               float64\n",
       "city                                     int64\n",
       "bd                                       int64\n",
       "gender                                  object\n",
       "registered_via                           int64\n",
       "registration_init_time          datetime64[ns]\n",
       "expiration_date                 datetime64[ns]\n",
       "registration_init_time_year              int64\n",
       "registration_init_time_month             int64\n",
       "registration_init_time_day               int64\n",
       "expiration_date_year                     int64\n",
       "expiration_date_month                    int64\n",
       "expiration_date_day                      int64\n",
       "dtype: object"
      ]
     },
     "execution_count": 72,
     "metadata": {},
     "output_type": "execute_result"
    }
   ],
   "source": [
    "train.dtypes"
   ]
  },
  {
   "cell_type": "code",
   "execution_count": 73,
   "metadata": {},
   "outputs": [
    {
     "data": {
      "text/plain": [
       "id                                       int64\n",
       "msno                                    object\n",
       "song_id                                 object\n",
       "source_system_tab                       object\n",
       "source_screen_name                      object\n",
       "source_type                             object\n",
       "song_length                            float64\n",
       "genre_ids                               object\n",
       "artist_name                             object\n",
       "composer                                object\n",
       "lyricist                                object\n",
       "language                               float64\n",
       "city                                     int64\n",
       "bd                                       int64\n",
       "gender                                  object\n",
       "registered_via                           int64\n",
       "registration_init_time          datetime64[ns]\n",
       "expiration_date                 datetime64[ns]\n",
       "registration_init_time_year              int64\n",
       "registration_init_time_month             int64\n",
       "registration_init_time_day               int64\n",
       "expiration_date_year                     int64\n",
       "expiration_date_month                    int64\n",
       "expiration_date_day                      int64\n",
       "dtype: object"
      ]
     },
     "execution_count": 73,
     "metadata": {},
     "output_type": "execute_result"
    }
   ],
   "source": [
    "test.dtypes"
   ]
  },
  {
   "cell_type": "code",
   "execution_count": 74,
   "metadata": {},
   "outputs": [],
   "source": [
    "all_data = pd.concat([train, test])"
   ]
  },
  {
   "cell_type": "code",
   "execution_count": 75,
   "metadata": {},
   "outputs": [
    {
     "data": {
      "text/plain": [
       "artist_name                         139\n",
       "bd                                    0\n",
       "city                                  0\n",
       "composer                        2295010\n",
       "expiration_date                       0\n",
       "expiration_date_day                   0\n",
       "expiration_date_month                 0\n",
       "expiration_date_year                  0\n",
       "gender                          4013703\n",
       "genre_ids                        160565\n",
       "id                              7377418\n",
       "language                            192\n",
       "lyricist                        4403542\n",
       "msno                                  0\n",
       "registered_via                        0\n",
       "registration_init_time                0\n",
       "registration_init_time_day            0\n",
       "registration_init_time_month          0\n",
       "registration_init_time_year           0\n",
       "song_id                               0\n",
       "song_length                         139\n",
       "source_screen_name               577687\n",
       "source_system_tab                 33291\n",
       "source_type                       28836\n",
       "target                          2556790\n",
       "dtype: int64"
      ]
     },
     "execution_count": 75,
     "metadata": {},
     "output_type": "execute_result"
    }
   ],
   "source": [
    "all_data.isnull().sum()"
   ]
  },
  {
   "cell_type": "code",
   "execution_count": 76,
   "metadata": {
    "pycharm": {
     "is_executing": true
    }
   },
   "outputs": [],
   "source": [
    "# encoding for categorical values on training and test data set\n",
    "#for col in all_data.select_dtypes(include=['category']).columns:\n",
    "#    all_data[col] = all_data[col].cat.codes\n",
    "#train = train.drop(['expiration_date', 'lyricist'], 1)"
   ]
  },
  {
   "cell_type": "code",
   "execution_count": 77,
   "metadata": {},
   "outputs": [],
   "source": [
    "enc = LabelEncoder()\n",
    "\n",
    "for col in [\n",
    "    'msno', 'song_id', 'source_screen_name', \n",
    "    'source_system_tab', 'source_type', 'genre_ids', \n",
    "    'artist_name', 'composer', 'lyricist', 'gender'\n",
    "]:\n",
    "    all_data[col] = enc.fit_transform(all_data[col].fillna('nan'))\n",
    "    \n",
    "for col in ['language', 'city', 'registered_via','song_length']:\n",
    "    all_data[col] = enc.fit_transform(all_data[col].fillna(-2))\n",
    "    "
   ]
  },
  {
   "cell_type": "code",
   "execution_count": 78,
   "metadata": {},
   "outputs": [
    {
     "data": {
      "text/plain": [
       "artist_name                              int64\n",
       "bd                                       int64\n",
       "city                                     int64\n",
       "composer                                 int64\n",
       "expiration_date                 datetime64[ns]\n",
       "expiration_date_day                      int64\n",
       "expiration_date_month                    int64\n",
       "expiration_date_year                     int64\n",
       "gender                                   int64\n",
       "genre_ids                                int64\n",
       "id                                     float64\n",
       "language                                 int64\n",
       "lyricist                                 int64\n",
       "msno                                     int64\n",
       "registered_via                           int64\n",
       "registration_init_time          datetime64[ns]\n",
       "registration_init_time_day               int64\n",
       "registration_init_time_month             int64\n",
       "registration_init_time_year              int64\n",
       "song_id                                  int64\n",
       "song_length                              int64\n",
       "source_screen_name                       int64\n",
       "source_system_tab                        int64\n",
       "source_type                              int64\n",
       "target                                 float64\n",
       "dtype: object"
      ]
     },
     "execution_count": 78,
     "metadata": {},
     "output_type": "execute_result"
    }
   ],
   "source": [
    "#display(all_data[:10])\n",
    "all_data.dtypes"
   ]
  },
  {
   "cell_type": "code",
   "execution_count": 1,
   "metadata": {},
   "outputs": [
    {
     "ename": "NameError",
     "evalue": "name 'all_data' is not defined",
     "output_type": "error",
     "traceback": [
      "\u001b[0;31m---------------------------------------------------------------------------\u001b[0m",
      "\u001b[0;31mNameError\u001b[0m                                 Traceback (most recent call last)",
      "\u001b[0;32m<ipython-input-1-1f74c0dd2a09>\u001b[0m in \u001b[0;36m<module>\u001b[0;34m\u001b[0m\n\u001b[0;32m----> 1\u001b[0;31m \u001b[0mall_data\u001b[0m\u001b[0;34m.\u001b[0m\u001b[0misnull\u001b[0m\u001b[0;34m(\u001b[0m\u001b[0;34m)\u001b[0m\u001b[0;34m.\u001b[0m\u001b[0msum\u001b[0m\u001b[0;34m(\u001b[0m\u001b[0;34m)\u001b[0m\u001b[0;34m\u001b[0m\u001b[0;34m\u001b[0m\u001b[0m\n\u001b[0m",
      "\u001b[0;31mNameError\u001b[0m: name 'all_data' is not defined"
     ]
    }
   ],
   "source": [
    "all_data.isnull().sum()"
   ]
  },
  {
   "cell_type": "code",
   "execution_count": 84,
   "metadata": {},
   "outputs": [],
   "source": [
    "#redefine train data and test data\n",
    "n = len(train)\n",
    "train_data = all_data[:n]\n",
    "test_data = all_data[n:]"
   ]
  },
  {
   "cell_type": "code",
   "execution_count": 85,
   "metadata": {},
   "outputs": [
    {
     "name": "stdout",
     "output_type": "stream",
     "text": [
      "(7377418, 25) (2556790, 25)\n"
     ]
    }
   ],
   "source": [
    "print(train_data.shape,test_data.shape)"
   ]
  },
  {
   "cell_type": "code",
   "execution_count": null,
   "metadata": {},
   "outputs": [],
   "source": []
  },
  {
   "cell_type": "code",
   "execution_count": 86,
   "metadata": {},
   "outputs": [],
   "source": [
    "train_data= train_data.drop(['id'], 1)\n",
    "test_data= test_data.drop(['target'], 1)\n"
   ]
  },
  {
   "cell_type": "code",
   "execution_count": 87,
   "metadata": {},
   "outputs": [
    {
     "name": "stdout",
     "output_type": "stream",
     "text": [
      "artist_name                     0\n",
      "bd                              0\n",
      "city                            0\n",
      "composer                        0\n",
      "expiration_date                 0\n",
      "expiration_date_day             0\n",
      "expiration_date_month           0\n",
      "expiration_date_year            0\n",
      "gender                          0\n",
      "genre_ids                       0\n",
      "language                        0\n",
      "lyricist                        0\n",
      "msno                            0\n",
      "registered_via                  0\n",
      "registration_init_time          0\n",
      "registration_init_time_day      0\n",
      "registration_init_time_month    0\n",
      "registration_init_time_year     0\n",
      "song_id                         0\n",
      "song_length                     0\n",
      "source_screen_name              0\n",
      "source_system_tab               0\n",
      "source_type                     0\n",
      "target                          0\n",
      "dtype: int64 artist_name                     0\n",
      "bd                              0\n",
      "city                            0\n",
      "composer                        0\n",
      "expiration_date                 0\n",
      "expiration_date_day             0\n",
      "expiration_date_month           0\n",
      "expiration_date_year            0\n",
      "gender                          0\n",
      "genre_ids                       0\n",
      "id                              0\n",
      "language                        0\n",
      "lyricist                        0\n",
      "msno                            0\n",
      "registered_via                  0\n",
      "registration_init_time          0\n",
      "registration_init_time_day      0\n",
      "registration_init_time_month    0\n",
      "registration_init_time_year     0\n",
      "song_id                         0\n",
      "song_length                     0\n",
      "source_screen_name              0\n",
      "source_system_tab               0\n",
      "source_type                     0\n",
      "dtype: int64\n"
     ]
    }
   ],
   "source": [
    "print(train_data.isnull().sum(),test_data.isnull().sum())"
   ]
  },
  {
   "cell_type": "code",
   "execution_count": 88,
   "metadata": {},
   "outputs": [],
   "source": [
    "train_data.to_csv(prefix +'train_data.csv')\n",
    "test_data.to_csv(prefix +'test_data.csv')"
   ]
  },
  {
   "cell_type": "code",
   "execution_count": 114,
   "metadata": {},
   "outputs": [],
   "source": []
  },
  {
   "cell_type": "code",
   "execution_count": null,
   "metadata": {},
   "outputs": [],
   "source": [
    "from sklearn.linear_model import LogisticRegression\n",
    "model=LogisticRegression(penalty='l2', dual=False, tol=0.0001, C=1.0, fit_intercept=True, \n",
    "                         intercept_scaling=1, class_weight=None, random_state=None, \n",
    "                         solver='liblinear', max_iter=100, multi_class='ovr', \n",
    "                         verbose=0, warm_start=False, n_jobs=1)\n",
    "model.fit(train[train.columns[train.columns != 'target']], train[[target]])"
   ]
  },
  {
   "cell_type": "code",
   "execution_count": null,
   "metadata": {},
   "outputs": [],
   "source": [
    "Toprediction = np.zeros(shape=[len(test)])\n",
    "Toprediction+=model.predict(test.drop(['id'],axis=1))"
   ]
  },
  {
   "cell_type": "code",
   "execution_count": null,
   "metadata": {},
   "outputs": [],
   "source": [
    "from sklearn.metrics import roc_curve, auc\n",
    "X.test = test.drop(['target'], axis=1)\n",
    "predictions_roc = model.predict(X.test)\n",
    "\n",
    "FP, TP, thresholds = roc_curve(test['target'], predictions_roc)\n",
    "roc_auc = auc(FP, TP)\n",
    "roc_auc\n",
    "plt.plot(FP, TP)"
   ]
  },
  {
   "cell_type": "code",
   "execution_count": null,
   "metadata": {},
   "outputs": [],
   "source": [
    "test.columns"
   ]
  },
  {
   "cell_type": "code",
   "execution_count": null,
   "metadata": {},
   "outputs": [],
   "source": []
  },
  {
   "cell_type": "code",
   "execution_count": 65,
   "metadata": {},
   "outputs": [
    {
     "data": {
      "text/plain": [
       "(7377418, 24)"
      ]
     },
     "execution_count": 65,
     "metadata": {},
     "output_type": "execute_result"
    }
   ],
   "source": [
    "#train1=train\n",
    "#train1.shape"
   ]
  },
  {
   "cell_type": "code",
   "execution_count": 83,
   "metadata": {},
   "outputs": [],
   "source": [
    "#standarize all numeric columns except target first\n",
    "#x=train1.loc[:,train1.columns != 'target']\n",
    "#y=train1.loc[:,'target']\n",
    "#for col in x.select_dtypes(exclude=['category']).columns:\n",
    "#    x[col] = StandardScaler().fit_transform(x[[col]])"
   ]
  },
  {
   "cell_type": "code",
   "execution_count": 30,
   "metadata": {
    "pycharm": {
     "is_executing": true
    }
   },
   "outputs": [
    {
     "data": {
      "text/plain": [
       "PCA(copy=True, iterated_power='auto', n_components=2, random_state=None,\n",
       "    svd_solver='auto', tol=0.0, whiten=False)"
      ]
     },
     "execution_count": 30,
     "metadata": {},
     "output_type": "execute_result"
    }
   ],
   "source": [
    "#implementing PCA to variables except target\n",
    "#pca = PCA(n_components=2)\n",
    "#pca.fit(train[train.columns[train.columns != 'target']])"
   ]
  },
  {
   "cell_type": "code",
   "execution_count": null,
   "metadata": {},
   "outputs": [],
   "source": []
  },
  {
   "cell_type": "code",
   "execution_count": null,
   "metadata": {},
   "outputs": [],
   "source": []
  },
  {
   "cell_type": "code",
   "execution_count": null,
   "metadata": {},
   "outputs": [],
   "source": []
  },
  {
   "cell_type": "code",
   "execution_count": null,
   "metadata": {},
   "outputs": [],
   "source": [
    "print('Making predictions')\n",
    "\n",
    "print"
   ]
  }
 ],
 "metadata": {
  "kernelspec": {
   "display_name": "Python 3",
   "language": "python",
   "name": "python3"
  },
  "language_info": {
   "codemirror_mode": {
    "name": "ipython",
    "version": 3
   },
   "file_extension": ".py",
   "mimetype": "text/x-python",
   "name": "python",
   "nbconvert_exporter": "python",
   "pygments_lexer": "ipython3",
   "version": "3.7.3"
  },
  "pycharm": {
   "stem_cell": {
    "cell_type": "raw",
    "metadata": {
     "collapsed": false
    },
    "source": []
   }
  }
 },
 "nbformat": 4,
 "nbformat_minor": 2
}
