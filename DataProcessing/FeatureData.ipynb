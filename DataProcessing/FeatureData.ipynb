{
 "cells": [
  {
   "cell_type": "code",
   "execution_count": 20,
   "metadata": {},
   "outputs": [],
   "source": [
    "import numpy as np\n",
    "import pandas as pd\n",
    "import matplotlib.pyplot as plt\n",
    "from sklearn.model_selection import train_test_split\n",
    "from IPython.display import display\n",
    "from sklearn import metrics\n",
    "from sklearn.metrics import accuracy_score\n",
    "import re\n",
    "import random\n",
    "import gc\n",
    "from sklearn import preprocessing\n",
    "from sklearn.linear_model import LogisticRegression\n",
    "from sklearn.preprocessing import Imputer\n",
    "from sklearn.pipeline import Pipeline\n",
    "from sklearn.model_selection import GridSearchCV\n",
    "import warnings\n",
    "warnings.filterwarnings('ignore')"
   ]
  },
  {
   "cell_type": "code",
   "execution_count": 21,
   "metadata": {
    "scrolled": true
   },
   "outputs": [
    {
     "name": "stdout",
     "output_type": "stream",
     "text": [
      "start reading...\n",
      "done reading\n"
     ]
    }
   ],
   "source": [
    "print('start reading...')\n",
    "prefix = \"/Users/isabelniu/Documents/HKUST-20Spring/ML/Project/CompleteDataSet/KKBOX/\"\n",
    "train = pd.read_csv(prefix+'train.csv', dtype={'msno' : 'object',\n",
    "                                                 'source_system_tab' : 'object',\n",
    "                                                 'source_screen_name' : 'object',\n",
    "                                                 'source_type' : 'object',\n",
    "                                                 'target' : np.uint8,\n",
    "                                                 'song_id' : 'object'})\n",
    "test = pd.read_csv(prefix+'test.csv', dtype={'msno' : 'object',\n",
    "                                               'source_system_tab' : 'object',\n",
    "                                               'source_screen_name' : 'object',\n",
    "                                               'source_type' : 'object',\n",
    "                                               'song_id' : 'object'})\n",
    "songs = pd.read_csv(prefix+'songs.csv',dtype={'genre_ids': 'object',\n",
    "                                                    'language' : 'object',\n",
    "                                                    'artist_name' : 'object',\n",
    "                                                    'composer' : 'object',\n",
    "                                                    'lyricist' : 'object',\n",
    "                                                    'song_id' : 'object'})\n",
    "members = pd.read_csv(prefix+'members.csv',dtype={'city' : 'object',\n",
    "                                                    'bd' : np.uint8,\n",
    "                                                    'gender' : 'object',\n",
    "                                                    'registered_via' : 'object'},\n",
    "                     parse_dates=['registration_init_time','expiration_date'])\n",
    "songs_extra = pd.read_csv(prefix+'song_extra_info.csv')\n",
    "print('done reading')"
   ]
  },
  {
   "cell_type": "code",
   "execution_count": 22,
   "metadata": {},
   "outputs": [],
   "source": [
    "#convert object type to categories\n",
    "def object2cat(df):\n",
    "    object_cols = list(df.select_dtypes(include=['object']).columns)\n",
    "    for col in object_cols:\n",
    "        df[col]=df[col].astype('category')\n",
    "object2cat(train)\n",
    "object2cat(test)\n",
    "object2cat(songs)\n",
    "object2cat(members)"
   ]
  },
  {
   "cell_type": "code",
   "execution_count": 23,
   "metadata": {},
   "outputs": [],
   "source": [
    "#test case for object2cat thus make sure we are getting correct column types\n",
    "assert train['msno'].dtype == 'category'\n",
    "assert test['source_system_tab'].dtype == 'category'\n",
    "assert songs['language'].dtype == 'category'\n",
    "assert members['city'].dtype == 'category'"
   ]
  },
  {
   "cell_type": "code",
   "execution_count": 24,
   "metadata": {},
   "outputs": [
    {
     "data": {
      "text/html": [
       "<div>\n",
       "<style scoped>\n",
       "    .dataframe tbody tr th:only-of-type {\n",
       "        vertical-align: middle;\n",
       "    }\n",
       "\n",
       "    .dataframe tbody tr th {\n",
       "        vertical-align: top;\n",
       "    }\n",
       "\n",
       "    .dataframe thead th {\n",
       "        text-align: right;\n",
       "    }\n",
       "</style>\n",
       "<table border=\"1\" class=\"dataframe\">\n",
       "  <thead>\n",
       "    <tr style=\"text-align: right;\">\n",
       "      <th></th>\n",
       "      <th>song_id</th>\n",
       "      <th>name</th>\n",
       "      <th>isrc</th>\n",
       "    </tr>\n",
       "  </thead>\n",
       "  <tbody>\n",
       "    <tr>\n",
       "      <th>0</th>\n",
       "      <td>LP7pLJoJFBvyuUwvu+oLzjT+bI+UeBPURCecJsX1jjs=</td>\n",
       "      <td>我們</td>\n",
       "      <td>TWUM71200043</td>\n",
       "    </tr>\n",
       "    <tr>\n",
       "      <th>1</th>\n",
       "      <td>ClazTFnk6r0Bnuie44bocdNMM3rdlrq0bCGAsGUWcHE=</td>\n",
       "      <td>Let Me Love You</td>\n",
       "      <td>QMZSY1600015</td>\n",
       "    </tr>\n",
       "    <tr>\n",
       "      <th>2</th>\n",
       "      <td>u2ja/bZE3zhCGxvbbOB3zOoUjx27u40cf5g09UXMoKQ=</td>\n",
       "      <td>原諒我</td>\n",
       "      <td>TWA530887303</td>\n",
       "    </tr>\n",
       "    <tr>\n",
       "      <th>3</th>\n",
       "      <td>92Fqsy0+p6+RHe2EoLKjHahORHR1Kq1TBJoClW9v+Ts=</td>\n",
       "      <td>Classic</td>\n",
       "      <td>USSM11301446</td>\n",
       "    </tr>\n",
       "    <tr>\n",
       "      <th>4</th>\n",
       "      <td>0QFmz/+rJy1Q56C1DuYqT9hKKqi5TUqx0sN0IwvoHrw=</td>\n",
       "      <td>愛投羅網</td>\n",
       "      <td>TWA471306001</td>\n",
       "    </tr>\n",
       "  </tbody>\n",
       "</table>\n",
       "</div>"
      ],
      "text/plain": [
       "                                        song_id             name          isrc\n",
       "0  LP7pLJoJFBvyuUwvu+oLzjT+bI+UeBPURCecJsX1jjs=               我們  TWUM71200043\n",
       "1  ClazTFnk6r0Bnuie44bocdNMM3rdlrq0bCGAsGUWcHE=  Let Me Love You  QMZSY1600015\n",
       "2  u2ja/bZE3zhCGxvbbOB3zOoUjx27u40cf5g09UXMoKQ=              原諒我  TWA530887303\n",
       "3  92Fqsy0+p6+RHe2EoLKjHahORHR1Kq1TBJoClW9v+Ts=          Classic  USSM11301446\n",
       "4  0QFmz/+rJy1Q56C1DuYqT9hKKqi5TUqx0sN0IwvoHrw=             愛投羅網  TWA471306001"
      ]
     },
     "execution_count": 24,
     "metadata": {},
     "output_type": "execute_result"
    }
   ],
   "source": [
    "songs_extra.head()"
   ]
  },
  {
   "cell_type": "code",
   "execution_count": 25,
   "metadata": {},
   "outputs": [
    {
     "name": "stdout",
     "output_type": "stream",
     "text": [
      "Data merging...\n",
      "Done merged\n"
     ]
    }
   ],
   "source": [
    "#we can extract year from isrc\n",
    "print('Data merging...')\n",
    "\n",
    "# Merging song with train and test dataframes\n",
    "train = train.merge(songs, on='song_id', how='left')\n",
    "test = test.merge(songs, on='song_id', how='left')\n",
    "\n",
    "# Data Extraction/Transformation - Extracting days, \n",
    "# months and years from expiratin and registration time \n",
    "members['membership_days'] = members['expiration_date'].subtract(\n",
    "    members['registration_init_time']).dt.days.astype(int)\n",
    "\n",
    "members['registration_year'] = members['registration_init_time'].dt.year\n",
    "members['registration_month'] = members['registration_init_time'].dt.month\n",
    "members['registration_date'] = members['registration_init_time'].dt.day\n",
    "\n",
    "members['expiration_year'] = members['expiration_date'].dt.year\n",
    "members['expiration_month'] = members['expiration_date'].dt.month\n",
    "members['expiration_date'] = members['expiration_date'].dt.day\n",
    "members = members.drop(['registration_init_time'], axis=1)\n",
    "\n",
    "\n",
    "# Converting isrc id to year\n",
    "def isrc_to_year(isrc):\n",
    "    if type(isrc) == str:\n",
    "        if int(isrc[5:7]) > 17:\n",
    "            return 1900 + int(isrc[5:7])\n",
    "        else:\n",
    "            return 2000 + int(isrc[5:7])\n",
    "    else:\n",
    "        return np.nan\n",
    "    \n",
    "\n",
    "#extracting the year of the song from isrc        \n",
    "songs_extra['song_year'] = songs_extra['isrc'].apply(isrc_to_year)\n",
    "\n",
    "#Dropping isrc and name from songs_extra\n",
    "songs_extra.drop(['isrc', 'name'], axis = 1, inplace = True)\n",
    "\n",
    "train = train.merge(members, on='msno', how='left')\n",
    "train.msno = train.msno.astype('category')\n",
    "test = test.merge(members, on='msno', how='left')\n",
    "test.msno = test.msno.astype('category')\n",
    "\n",
    "train = train.merge(songs_extra, on = 'song_id', how = 'left')\n",
    "train.song_length.fillna(200000,inplace=True)\n",
    "train.song_length = train.song_length.astype(np.uint32)\n",
    "train.song_id = train.song_id.astype('category')\n",
    "\n",
    "\n",
    "test = test.merge(songs_extra, on = 'song_id', how = 'left')\n",
    "test.song_length.fillna(200000,inplace=True)\n",
    "test.song_length = test.song_length.astype(np.uint32)\n",
    "test.song_id = test.song_id.astype('category')\n",
    "\n",
    "#deleting redundant dataframes\n",
    "\n",
    "del members, songs\n",
    "gc.collect();\n",
    "\n",
    "print('Done merged')"
   ]
  },
  {
   "cell_type": "code",
   "execution_count": 26,
   "metadata": {},
   "outputs": [
    {
     "data": {
      "text/plain": [
       "msno                  category\n",
       "song_id               category\n",
       "source_system_tab     category\n",
       "source_screen_name    category\n",
       "source_type           category\n",
       "target                   uint8\n",
       "song_length             uint32\n",
       "genre_ids             category\n",
       "artist_name           category\n",
       "composer              category\n",
       "lyricist              category\n",
       "language              category\n",
       "city                  category\n",
       "bd                       uint8\n",
       "gender                category\n",
       "registered_via        category\n",
       "expiration_date          int64\n",
       "membership_days          int64\n",
       "registration_year        int64\n",
       "registration_month       int64\n",
       "registration_date        int64\n",
       "expiration_year          int64\n",
       "expiration_month         int64\n",
       "song_year              float64\n",
       "dtype: object"
      ]
     },
     "execution_count": 26,
     "metadata": {},
     "output_type": "execute_result"
    }
   ],
   "source": [
    "train.dtypes"
   ]
  },
  {
   "cell_type": "code",
   "execution_count": null,
   "metadata": {},
   "outputs": [],
   "source": []
  },
  {
   "cell_type": "code",
   "execution_count": null,
   "metadata": {},
   "outputs": [],
   "source": [
    "#Add category and fill NA\n",
    "train['genre_ids']=train['genre_ids'].cat.add_categories('no_genre_id')\n",
    "train['genre_ids'].fillna('no_genre_id',inplace=True)\n",
    "test['genre_ids']=test['genre_ids'].cat.add_categories('no_genre_id')\n",
    "test['genre_ids'].fHillna('no_genre_id',inplace=True)\n",
    "\n",
    "train['lyricist']=train['lyricist'].cat.add_categories('no_lyricist')\n",
    "train['lyricist'].fillna('no_lyricist',inplace=True)\n",
    "test['lyricist']=test['lyricist'].cat.add_categories('no_lyricist')\n",
    "test['lyricist'].fillna('no_lyricist',inplace=True)\n",
    "\n",
    "train['composer']=train['composer'].cat.add_categories('no_composer')\n",
    "train['composer'].fillna('no_composer',inplace=True)\n",
    "test['composer']=test['composer'].cat.add_categories('no_composer')\n",
    "test['composer'].fillna('no_composer',inplace=True)\n",
    "\n",
    "train['artist_name']=train['artist_name'].cat.add_categories('no_artist')\n",
    "train['artist_name'].fillna('no_artist',inplace=True)\n",
    "test['artist_name']=test['artist_name'].cat.add_categories('no_artist')\n",
    "test['artist_name'].fillna('no_artist',inplace=True)"
   ]
  },
  {
   "cell_type": "code",
   "execution_count": null,
   "metadata": {},
   "outputs": [],
   "source": []
  },
  {
   "cell_type": "code",
   "execution_count": null,
   "metadata": {},
   "outputs": [],
   "source": [
    "#add new features\n",
    "#counting genre_id\n",
    "def genre_id_count(x):\n",
    "    if x == 'no_genre_id':\n",
    "        return 0\n",
    "    else:\n",
    "        return x.count('|') + 1\n",
    "\n",
    "train['genre_ids_count'] = train['genre_ids'].apply(genre_id_count).astype(np.int8)\n",
    "test['genre_ids_count'] = test['genre_ids'].apply(genre_id_count).astype(np.int8)\n",
    "\n",
    "\n",
    "# Splitting the lyricists by ['|', '/', '\\\\', ';'] and counting the number of Lyricists\n",
    "def lyricist_count(x):\n",
    "    if x == 'no_lyricist':\n",
    "        return 0\n",
    "    else:\n",
    "        return sum(map(x.count, ['|', '/', '\\\\', ';'])) + 1\n",
    "    return sum(map(x.count, ['|', '/', '\\\\', ';']))\n",
    "\n",
    "train['lyricists_count'] = train['lyricist'].apply(lyricist_count).astype(np.int8)\n",
    "test['lyricists_count'] = test['lyricist'].apply(lyricist_count).astype(np.int8)\n",
    "\n",
    "\n",
    "# Splitting the comoser by ['|', '/', '\\\\', ';'] and counting the number of Lyricists\n",
    "def composer_count(x):\n",
    "    if x == 'no_composer':\n",
    "        return 0\n",
    "    else:\n",
    "        return sum(map(x.count, ['|', '/', '\\\\', ';'])) + 1\n",
    "\n",
    "train['composer_count'] = train['composer'].apply(composer_count).astype(np.int8)\n",
    "test['composer_count'] = test['composer'].apply(composer_count).astype(np.int8)\n",
    "\n",
    "# Checking for feat in the column value\n",
    "def is_featured(x):\n",
    "    if 'feat' in str(x) :\n",
    "        return 1\n",
    "    return 0\n",
    "\n",
    "train['is_featured'] = train['artist_name'].apply(is_featured).astype(np.int8)\n",
    "test['is_featured'] = test['artist_name'].apply(is_featured).astype(np.int8)\n",
    "\n",
    "# Splitting the artists by [and, ',', feat, &] and counting the number of artists\n",
    "def artist_count(x):\n",
    "    if x == 'no_artist':\n",
    "        return 0\n",
    "    else:\n",
    "        return x.count('and') + x.count(',') + x.count('feat') + x.count('&')\n",
    "\n",
    "train['artist_count'] = train['artist_name'].apply(artist_count).astype(np.int8)\n",
    "test['artist_count'] = test['artist_name'].apply(artist_count).astype(np.int8)\n",
    "print('finished adding genre id count, composer count, lyricist count, feated artist and artist count')"
   ]
  },
  {
   "cell_type": "code",
   "execution_count": null,
   "metadata": {},
   "outputs": [],
   "source": [
    "#testing features\n",
    "\n",
    "#testing genre_id_count\n",
    "assert len(train['genre_ids_count']) != 0\n",
    "assert len(test['genre_ids_count']) != 0\n",
    "\n",
    "#testing composer_count\n",
    "assert len(train['composer_count']) != 0\n",
    "assert len(train['composer_count']) != 0\n",
    "\n",
    "#testing lyricist_count\n",
    "assert len(train['lyricists_count']) != 0\n",
    "assert len(test['lyricists_count']) != 0\n",
    "\n",
    "#testing is_feat\n",
    "assert len(train['is_featured']) != 0\n",
    "assert len(test['is_featured']) != 0\n",
    "\n",
    "#testing artist_count\n",
    "assert len(train['artist_count']) != 0\n",
    "assert len(test['artist_count']) != 0"
   ]
  },
  {
   "cell_type": "code",
   "execution_count": null,
   "metadata": {},
   "outputs": [],
   "source": [
    "# if artist is same as composer\n",
    "train['artist_composer'] = (train['artist_name'].astype(\"object\") == train['composer']\n",
    "                            .astype(\"object\")).astype(np.int8)\n",
    "test['artist_composer'] = (test['artist_name'].astype(\"object\") == test['composer']\n",
    "                           .astype(\"object\")).astype(np.int8)"
   ]
  },
  {
   "cell_type": "code",
   "execution_count": null,
   "metadata": {},
   "outputs": [],
   "source": [
    "# if artist, lyricist and composer are all the same\n",
    "train['artist_composer_lyricist'] = ((train['artist_name'].astype(\"object\") \n",
    "                                      == train['composer'].astype(\"object\")) \n",
    "                                     & (train['artist_name'].astype(\"object\")\n",
    "                                        == train['lyricist'].astype(\"object\"))\n",
    "                                     & (train['composer'].astype(\"object\")\n",
    "                                        == train['lyricist'].astype(\"object\"))\n",
    "                                    ).astype(np.int8)\n",
    "test['artist_composer_lyricist'] = ((test['artist_name'].astype(\"object\") \n",
    "                                     == test['composer'].astype(\"object\")) \n",
    "                                    & (test['artist_name'].astype(\"object\")\n",
    "                                       == test['lyricist'].astype(\"object\"))\n",
    "                                    & (test['composer'].astype(\"object\") \n",
    "                                       == test['lyricist'].astype(\"object\"))\n",
    "                                   ).astype(np.int8)\n",
    "\n"
   ]
  },
  {
   "cell_type": "code",
   "execution_count": null,
   "metadata": {},
   "outputs": [],
   "source": []
  },
  {
   "cell_type": "code",
   "execution_count": null,
   "metadata": {},
   "outputs": [],
   "source": [
    "train.isnull().sum()"
   ]
  },
  {
   "cell_type": "code",
   "execution_count": null,
   "metadata": {},
   "outputs": [],
   "source": []
  },
  {
   "cell_type": "code",
   "execution_count": null,
   "metadata": {},
   "outputs": [],
   "source": [
    "train['language']=train['language'].cat.add_categories('0')\n",
    "train['language'].fillna('0',inplace=True)\n",
    "test['language']=test['language'].cat.add_categories('0')\n",
    "test['language'].fillna('0',inplace=True)"
   ]
  },
  {
   "cell_type": "code",
   "execution_count": null,
   "metadata": {},
   "outputs": [],
   "source": [
    "# is song language 17 or 45. \n",
    "def song_lang_boolean(x):\n",
    "    if '17.0' in str(x) or '45.0' in str(x):\n",
    "        return 1\n",
    "    return 0\n",
    "\n",
    "train['song_lang_boolean'] = train['language'].apply(song_lang_boolean).astype(np.uint8)\n",
    "test['song_lang_boolean'] = test['language'].apply(song_lang_boolean).astype(np.uint8)"
   ]
  },
  {
   "cell_type": "code",
   "execution_count": null,
   "metadata": {},
   "outputs": [],
   "source": [
    "_mean_song_length = np.mean(train['song_length'])\n",
    "def smaller_song(x):\n",
    "    if x < _mean_song_length:\n",
    "        return 1\n",
    "    return 0\n",
    "\n",
    "train['smaller_song'] = train['song_length'].apply(smaller_song).astype(np.int8)\n",
    "test['smaller_song'] = test['song_length'].apply(smaller_song).astype(np.int8)\n",
    "\n",
    "# number of times a song has been played before\n",
    "_dict_count_song_played_train = {k: v for k, v in train['song_id']\n",
    "                                 .value_counts().iteritems()}\n",
    "_dict_count_song_played_test = {k: v for k, v in test['song_id']\n",
    "                                .value_counts().iteritems()}\n",
    "\n",
    "def count_song_played(x):\n",
    "    try:\n",
    "        return _dict_count_song_played_train[x]\n",
    "    except KeyError:\n",
    "        try:\n",
    "            return _dict_count_song_played_test[x]\n",
    "        except KeyError:\n",
    "            return 0\n",
    "    \n",
    "train['count_song_played'] = train['song_id'].apply(count_song_played).astype(np.int64)\n",
    "test['count_song_played'] = test['song_id'].apply(count_song_played).astype(np.int64)\n",
    "\n",
    "# number of times the artist has been played\n",
    "_dict_count_artist_played_train = {k: v for k, v in train['artist_name']\n",
    "                                   .value_counts().iteritems()}\n",
    "_dict_count_artist_played_test = {k: v for k, v in test['artist_name']\n",
    "                                  .value_counts().iteritems()}\n",
    "\n",
    "def count_artist_played(x):\n",
    "    try:\n",
    "        return _dict_count_artist_played_train[x]\n",
    "    except KeyError:\n",
    "        try:\n",
    "            return _dict_count_artist_played_test[x]\n",
    "        except KeyError:\n",
    "            return 0\n",
    "\n",
    "train['count_artist_played'] = train['artist_name'].apply(count_artist_played).astype(np.int64)\n",
    "test['count_artist_played'] = test['artist_name'].apply(count_artist_played).astype(np.int64)\n",
    "\n",
    "\n",
    "print(\"Done adding features\")"
   ]
  },
  {
   "cell_type": "code",
   "execution_count": null,
   "metadata": {},
   "outputs": [],
   "source": [
    "#testing the functions\n",
    "\n",
    "#testing song_lang_boolean\n",
    "assert train['song_lang_boolean'][0] == 0\n",
    "assert train['song_lang_boolean'][58] == 1\n",
    "\n",
    "#testing smaller_song\n",
    "assert len(test['smaller_song']) != 0\n",
    "assert len(train['smaller_song']) != 0\n",
    "\n",
    "#testing count_song_played\n",
    "assert 'count_song_played' in train\n",
    "assert len(train['count_artist_played']) != 0\n",
    "assert 'count_song_played' in test\n",
    "assert len(test['count_artist_played']) != 0"
   ]
  },
  {
   "cell_type": "code",
   "execution_count": null,
   "metadata": {},
   "outputs": [],
   "source": [
    "del songs_extra"
   ]
  },
  {
   "cell_type": "code",
   "execution_count": null,
   "metadata": {},
   "outputs": [],
   "source": [
    "train.to_csv(\"CompleteDataSet/processed_train_1.csv\") #Saving file to local"
   ]
  },
  {
   "cell_type": "code",
   "execution_count": null,
   "metadata": {},
   "outputs": [],
   "source": [
    "test.to_csv(\"CompleteDataSet/processed_test_1.csv\") #Saving test file to local"
   ]
  },
  {
   "cell_type": "code",
   "execution_count": null,
   "metadata": {},
   "outputs": [],
   "source": []
  },
  {
   "cell_type": "code",
   "execution_count": 4,
   "metadata": {},
   "outputs": [],
   "source": [
    "prefix = \"/Users/isabelniu/Documents/HKUST-20Spring/ML/Project/CompleteDataSet/\"\n",
    "train = pd.read_csv(prefix + \"processed_train_1.csv\")\n",
    "test = pd.read_csv(prefix + \"processed_test_1.csv\")"
   ]
  },
  {
   "cell_type": "code",
   "execution_count": 5,
   "metadata": {},
   "outputs": [],
   "source": [
    "train=train.drop(train.columns[0],1)\n",
    "test=test.drop(test.columns[0],1)"
   ]
  },
  {
   "cell_type": "code",
   "execution_count": 6,
   "metadata": {},
   "outputs": [],
   "source": [
    "all_data = pd.concat([train, test])"
   ]
  },
  {
   "cell_type": "code",
   "execution_count": 7,
   "metadata": {},
   "outputs": [
    {
     "data": {
      "text/plain": [
       "artist_composer                   0\n",
       "artist_composer_lyricist          0\n",
       "artist_count                      0\n",
       "artist_name                       0\n",
       "bd                                0\n",
       "city                              0\n",
       "composer                          0\n",
       "composer_count                    0\n",
       "count_artist_played               0\n",
       "count_song_played                 0\n",
       "expiration_date                   0\n",
       "expiration_month                  0\n",
       "expiration_year                   0\n",
       "gender                      4013703\n",
       "genre_ids                         0\n",
       "genre_ids_count                   0\n",
       "id                          7377418\n",
       "is_featured                       0\n",
       "language                          0\n",
       "lyricist                          0\n",
       "lyricists_count                   0\n",
       "membership_days                   0\n",
       "msno                              0\n",
       "registered_via                    0\n",
       "registration_date                 0\n",
       "registration_month                0\n",
       "registration_year                 0\n",
       "smaller_song                      0\n",
       "song_id                           0\n",
       "song_lang_boolean                 0\n",
       "song_length                       0\n",
       "song_year                    774501\n",
       "source_screen_name           577687\n",
       "source_system_tab             33291\n",
       "source_type                   28836\n",
       "target                      2556790\n",
       "dtype: int64"
      ]
     },
     "execution_count": 7,
     "metadata": {},
     "output_type": "execute_result"
    }
   ],
   "source": [
    "all_data.isnull().sum()"
   ]
  },
  {
   "cell_type": "code",
   "execution_count": 8,
   "metadata": {},
   "outputs": [],
   "source": [
    "# Imputing continuous columns\n",
    "na_continuous_col = ['song_year','gender']\n",
    "na_category_col=['source_system_tab',\n",
    "                     'source_screen_name', 'source_type']\n",
    "for col in na_continuous_col:\n",
    "    all_data[col] = all_data[col].fillna(-1)\n",
    "for col in na_category_col:\n",
    "    all_data[col] = all_data[col].fillna('NaN')"
   ]
  },
  {
   "cell_type": "code",
   "execution_count": 9,
   "metadata": {},
   "outputs": [],
   "source": [
    "# Label encoding for the categorical varaibles \n",
    "def encoder(x_train):\n",
    "    le = preprocessing.LabelEncoder()\n",
    "    for column_name in x_train.columns:\n",
    "            if x_train[column_name].dtype.name in ['category','object']:\n",
    "                x_train[column_name] = le.fit_transform(\n",
    "                    x_train[column_name].astype(str))\n",
    "\n",
    "# Encode the data\n",
    "encoder(all_data)"
   ]
  },
  {
   "cell_type": "code",
   "execution_count": 10,
   "metadata": {},
   "outputs": [],
   "source": [
    "#redefine train data and test data\n",
    "n = len(train)\n",
    "train = all_data[:n]\n",
    "test = all_data[n:]"
   ]
  },
  {
   "cell_type": "code",
   "execution_count": 14,
   "metadata": {},
   "outputs": [
    {
     "data": {
      "text/plain": [
       "20"
      ]
     },
     "execution_count": 14,
     "metadata": {},
     "output_type": "execute_result"
    }
   ],
   "source": [
    "del all_data\n",
    "gc.collect()"
   ]
  },
  {
   "cell_type": "code",
   "execution_count": 11,
   "metadata": {},
   "outputs": [
    {
     "name": "stdout",
     "output_type": "stream",
     "text": [
      "(7377418, 36) (2556790, 36)\n"
     ]
    }
   ],
   "source": [
    "print(train.shape,test.shape)"
   ]
  },
  {
   "cell_type": "code",
   "execution_count": 12,
   "metadata": {},
   "outputs": [],
   "source": [
    "train= train.drop(['id'], 1)\n",
    "test= test.drop(['target'], 1)"
   ]
  },
  {
   "cell_type": "code",
   "execution_count": 15,
   "metadata": {},
   "outputs": [],
   "source": [
    "train.to_csv(\"CompleteDataSet/FinalEncodedTrain.csv\") #Saving file to local"
   ]
  },
  {
   "cell_type": "code",
   "execution_count": 16,
   "metadata": {},
   "outputs": [],
   "source": [
    "test.to_csv(\"CompleteDataSet/FinalEncodedTest.csv\") #Saving file to local"
   ]
  },
  {
   "cell_type": "code",
   "execution_count": null,
   "metadata": {},
   "outputs": [],
   "source": []
  }
 ],
 "metadata": {
  "kernelspec": {
   "display_name": "Python 3",
   "language": "python",
   "name": "python3"
  },
  "language_info": {
   "codemirror_mode": {
    "name": "ipython",
    "version": 3
   },
   "file_extension": ".py",
   "mimetype": "text/x-python",
   "name": "python",
   "nbconvert_exporter": "python",
   "pygments_lexer": "ipython3",
   "version": "3.7.3"
  }
 },
 "nbformat": 4,
 "nbformat_minor": 2
}
